{
 "cells": [
  {
   "cell_type": "markdown",
   "metadata": {},
   "source": [
    "pip install flask"
   ]
  },
  {
   "cell_type": "markdown",
   "metadata": {},
   "source": [
    "Spring server, Flask server data exchange"
   ]
  },
  {
   "cell_type": "code",
   "execution_count": 18,
   "metadata": {},
   "outputs": [
    {
     "name": "stdout",
     "output_type": "stream",
     "text": [
      " * Serving Flask app '__main__'\n",
      " * Debug mode: off\n"
     ]
    },
    {
     "name": "stderr",
     "output_type": "stream",
     "text": [
      "WARNING: This is a development server. Do not use it in a production deployment. Use a production WSGI server instead.\n",
      " * Running on http://127.0.0.1:5000\n",
      "Press CTRL+C to quit\n",
      "127.0.0.1 - - [07/Apr/2024 00:17:40] \"GET /send-data HTTP/1.1\" 200 -\n",
      "127.0.0.1 - - [07/Apr/2024 00:18:53] \"GET /send-data HTTP/1.1\" 200 -\n",
      "127.0.0.1 - - [07/Apr/2024 00:20:05] \"GET /send-data HTTP/1.1\" 200 -\n"
     ]
    }
   ],
   "source": [
    "from flask import Flask, jsonify\n",
    "import requests\n",
    "import urllib.request\n",
    " \n",
    "app = Flask(__name__)\n",
    " \n",
    "@app.route(\"/tospring\")\n",
    "def spring(): \n",
    "    \n",
    "    return \"test\"\n",
    "\n",
    "@app.route('/send-data', methods=['GET'])\n",
    "def send_data():\n",
    "    data = {\"message\": \"This is the data from Flask server\" , \"recipe1\":\"부대찌개\", \"recipe2\":\"김치찌개\", \"recipe3\":\"된장찌개\"}\n",
    "    return jsonify(data)\n",
    "\n",
    "    \n",
    "if __name__ == '__main__':\n",
    "    app.run(debug=False,host=\"127.0.0.1\",port=5000)"
   ]
  },
  {
   "cell_type": "markdown",
   "metadata": {},
   "source": [
    "flask server api request "
   ]
  },
  {
   "cell_type": "code",
   "execution_count": 11,
   "metadata": {},
   "outputs": [
    {
     "name": "stdout",
     "output_type": "stream",
     "text": [
      " * Serving Flask app '__main__'\n",
      " * Debug mode: off\n"
     ]
    },
    {
     "name": "stderr",
     "output_type": "stream",
     "text": [
      "WARNING: This is a development server. Do not use it in a production deployment. Use a production WSGI server instead.\n",
      " * Running on http://127.0.0.1:5000\n",
      "Press CTRL+C to quit\n",
      "127.0.0.1 - - [07/Apr/2024 17:01:50] \"GET /request-data HTTP/1.1\" 200 -\n"
     ]
    }
   ],
   "source": [
    "from flask import Flask, jsonify\n",
    "import requests\n",
    " \n",
    "app = Flask(__name__)\n",
    "\n",
    "apikey = ''\n",
    "@app.route('/request-data', methods=['GET'])\n",
    "def request_data():\n",
    "    request_url = f'https://openapi.foodsafetykorea.go.kr/api/{apikey}/COOKRCP01/json/1/1000'\n",
    "    response = requests.get(request_url)\n",
    "    data =response.json()\n",
    "\n",
    "    return [item['RCP_NM'] for item in data['COOKRCP01']['row']] # 레시피 이름만 가져오기\n",
    "    # return [item['RCP_PARTS_DTLS'] for item in data['COOKRCP01']['row']] # 레시피 식재료만 가져오기\n",
    "    \n",
    "if __name__ == '__main__':\n",
    "    app.run(debug=False,host=\"127.0.0.1\",port=5000)"
   ]
  },
  {
   "cell_type": "code",
   "execution_count": null,
   "metadata": {},
   "outputs": [],
   "source": []
  }
 ],
 "metadata": {
  "kernelspec": {
   "display_name": "Python 3",
   "language": "python",
   "name": "python3"
  },
  "language_info": {
   "codemirror_mode": {
    "name": "ipython",
    "version": 3
   },
   "file_extension": ".py",
   "mimetype": "text/x-python",
   "name": "python",
   "nbconvert_exporter": "python",
   "pygments_lexer": "ipython3",
   "version": "3.12.0"
  }
 },
 "nbformat": 4,
 "nbformat_minor": 2
}
