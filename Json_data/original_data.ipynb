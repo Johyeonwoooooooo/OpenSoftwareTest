{
 "cells": [
  {
   "cell_type": "code",
   "execution_count": 1,
   "metadata": {},
   "outputs": [],
   "source": [
    "import requests\n",
    "\n",
    "def request_data():\n",
    "    apikey = '360bfc50b4154894b83c'\n",
    "    request_url = f'https://openapi.foodsafetykorea.go.kr/api/{apikey}/COOKRCP01/json/1/1000'\n",
    "    response = requests.get(request_url)\n",
    "    data =response.json()\n",
    "    \n",
    "    recipe_names = [item['RCP_NM'] for item in data['COOKRCP01']['row']]\n",
    "    recipe_ingredients = [item['RCP_PARTS_DTLS'] for item in data['COOKRCP01']['row']]\n",
    "\n",
    "    return recipe_names, recipe_ingredients\n",
    "\n",
    "recipe_name, ingredient_list = request_data()"
   ]
  },
  {
   "cell_type": "code",
   "execution_count": 23,
   "metadata": {},
   "outputs": [
    {
     "name": "stdout",
     "output_type": "stream",
     "text": [
      "493         호박잎다슬기된장국\n",
      "494    양배추두부찜과 양파케첩소스\n",
      "Name: name, dtype: object\n"
     ]
    }
   ],
   "source": [
    "import pandas as pd\n",
    "\n",
    "df = pd.DataFrame({'name':recipe_name, 'ingredient':ingredient_list})\n",
    "\n",
    "df.head()\n",
    "\n",
    "filtered_df = df[df['ingredient'] == '']\n",
    "\n",
    "print(filtered_df['name'])"
   ]
  },
  {
   "cell_type": "code",
   "execution_count": 24,
   "metadata": {},
   "outputs": [
    {
     "name": "stdout",
     "output_type": "stream",
     "text": [
      "952    채소 커리를 곁들인 팬케익\n",
      "Name: name, dtype: object\n"
     ]
    }
   ],
   "source": [
    "filtered_df = df[df['ingredient'] == '.']\n",
    "\n",
    "print(filtered_df['name'])"
   ]
  },
  {
   "cell_type": "code",
   "execution_count": null,
   "metadata": {},
   "outputs": [],
   "source": []
  }
 ],
 "metadata": {
  "kernelspec": {
   "display_name": "Python 3",
   "language": "python",
   "name": "python3"
  },
  "language_info": {
   "codemirror_mode": {
    "name": "ipython",
    "version": 3
   },
   "file_extension": ".py",
   "mimetype": "text/x-python",
   "name": "python",
   "nbconvert_exporter": "python",
   "pygments_lexer": "ipython3",
   "version": "3.12.0"
  }
 },
 "nbformat": 4,
 "nbformat_minor": 2
}
