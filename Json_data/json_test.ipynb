{
 "cells": [
  {
   "cell_type": "code",
   "execution_count": 1,
   "metadata": {},
   "outputs": [
    {
     "name": "stdout",
     "output_type": "stream",
     "text": [
      "{\"K5\": {\"price\": \"5000\", \"year\": \"2015\"}, \"Avante\": {\"price\": \"3000\", \"year\": \"2014\"}}\n",
      "['5000', '3000']\n"
     ]
    }
   ],
   "source": [
    "import json\n",
    "\n",
    "with open('data.json', 'r') as f:\n",
    "\n",
    "    json_data = json.load(f)\n",
    "\n",
    "print(json.dumps(json_data))\n",
    "\n",
    "prices = [json_data[key][\"price\"] for key in json_data]\n",
    "print(prices)"
   ]
  },
  {
   "cell_type": "code",
   "execution_count": 8,
   "metadata": {},
   "outputs": [
    {
     "name": "stdout",
     "output_type": "stream",
     "text": [
      "레시피 간의 코사인 유사도:\n",
      "[[1.         0.2236068  0.        ]\n",
      " [0.2236068  1.         0.89442719]\n",
      " [0.         0.89442719 1.        ]]\n"
     ]
    }
   ],
   "source": [
    "import numpy as np\n",
    "from sklearn.metrics.pairwise import cosine_similarity\n",
    "\n",
    "recipes = np.array([\n",
    "    [[1, 0], [1, 0], [0, 0], [1, 1]],\n",
    "    [[0, 1], [1, 1], [1, 1], [0, 0]],\n",
    "    [[0, 1], [0, 1], [1, 1], [0, 0]]\n",
    "])\n",
    "\n",
    "recipes_2d = recipes.reshape(recipes.shape[0], -1)\n",
    "\n",
    "cosine_sim = cosine_similarity(recipes_2d)\n",
    "\n",
    "print(\"레시피 간의 코사인 유사도:\")\n",
    "print(cosine_sim)\n",
    "\n"
   ]
  },
  {
   "cell_type": "code",
   "execution_count": null,
   "metadata": {},
   "outputs": [],
   "source": []
  }
 ],
 "metadata": {
  "kernelspec": {
   "display_name": "Python 3",
   "language": "python",
   "name": "python3"
  },
  "language_info": {
   "codemirror_mode": {
    "name": "ipython",
    "version": 3
   },
   "file_extension": ".py",
   "mimetype": "text/x-python",
   "name": "python",
   "nbconvert_exporter": "python",
   "pygments_lexer": "ipython3",
   "version": "3.12.0"
  }
 },
 "nbformat": 4,
 "nbformat_minor": 2
}
